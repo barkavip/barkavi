{
 "cells": [
  {
   "cell_type": "code",
   "execution_count": 9,
   "id": "bbe193dc",
   "metadata": {},
   "outputs": [
    {
     "name": "stdout",
     "output_type": "stream",
     "text": [
      "enter first number: 5\n",
      "enter second number: 0\n",
      "The Number2 is 0.\n"
     ]
    }
   ],
   "source": [
    "a = int(input(\"enter first number: \"))\n",
    "b = int(input(\"enter second number: \"))\n",
    "if a > 0:\n",
    "\n",
    "    if b>0:\n",
    "    \n",
    "      sum = a + b\n",
    "      print(\"sum:\", sum)  \n",
    "    \n",
    "    else:\n",
    "    \n",
    "        print(\"The Number2 is 0.so we can't perform the operation.\")\n",
    "    \n",
    "    \n",
    "\n",
    "else:\n",
    "    \n",
    "        print(\"The Number1 is 0.so we can't perform the operation.\")\n",
    "    \n",
    " \n",
    " \n"
   ]
  },
  {
   "cell_type": "code",
   "execution_count": 11,
   "id": "f5ecaebb",
   "metadata": {},
   "outputs": [
    {
     "name": "stdout",
     "output_type": "stream",
     "text": [
      "How many numbers: 3\n",
      "Enter number 2\n",
      "Enter number 10\n",
      "Enter number 0\n",
      "Maximum element in the list is : 10\n"
     ]
    }
   ],
   "source": [
    "def find_max( list ):\n",
    "    max = list[ 0 ]\n",
    "    for a in list:\n",
    "        if a > max:\n",
    "            max = a\n",
    "    return max\n",
    " \n",
    " \n",
    "num = int(input('How many numbers: '))\n",
    " \n",
    "lst = []\n",
    " \n",
    "for n in range(num):\n",
    "    numbers = int(input('Enter number '))\n",
    "    lst.append(numbers)\n",
    "     \n",
    "print(\"Maximum element in the list is :\", find_max(lst))"
   ]
  },
  {
   "cell_type": "code",
   "execution_count": 14,
   "id": "c61a1a27",
   "metadata": {},
   "outputs": [
    {
     "name": "stdout",
     "output_type": "stream",
     "text": [
      "     weight  Length1  Length2  Length3   Height   Width  label\n",
      "0     242.0     23.2     25.4     30.0  11.5200  4.0200  Bream\n",
      "1     290.0     24.0     26.3     31.2  12.4800  4.3056  Bream\n",
      "2     340.0     23.9     26.5     31.1  12.3778  4.6961  Bream\n",
      "3     363.0     26.3     29.0     33.5  12.7300  4.4555  Bream\n",
      "4     430.0     26.5     29.0     34.0  12.4440  5.1340  Bream\n",
      "..      ...      ...      ...      ...      ...     ...    ...\n",
      "154    12.2     11.5     12.2     13.4   2.0904  1.3936  Smelt\n",
      "155    13.4     11.7     12.4     13.5   2.4300  1.2690  Smelt\n",
      "156    12.2     12.1     13.0     13.8   2.2770  1.2558  Smelt\n",
      "157    19.7     13.2     14.3     15.2   2.8728  2.0672  Smelt\n",
      "158    19.9     13.8     15.0     16.2   2.9322  1.8792  Smelt\n",
      "\n",
      "[159 rows x 7 columns]\n"
     ]
    }
   ],
   "source": [
    "import pandas as pd\n",
    "dataset=pd.read_csv(\"fish.csv\")\n",
    "print(dataset)"
   ]
  },
  {
   "cell_type": "code",
   "execution_count": null,
   "id": "7c304951",
   "metadata": {},
   "outputs": [],
   "source": []
  }
 ],
 "metadata": {
  "kernelspec": {
   "display_name": "Python 3 (ipykernel)",
   "language": "python",
   "name": "python3"
  },
  "language_info": {
   "codemirror_mode": {
    "name": "ipython",
    "version": 3
   },
   "file_extension": ".py",
   "mimetype": "text/x-python",
   "name": "python",
   "nbconvert_exporter": "python",
   "pygments_lexer": "ipython3",
   "version": "3.9.7"
  }
 },
 "nbformat": 4,
 "nbformat_minor": 5
}
